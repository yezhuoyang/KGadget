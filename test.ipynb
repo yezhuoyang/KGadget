{
 "cells": [
  {
   "cell_type": "code",
   "execution_count": 12,
   "id": "16657886-c524-4660-9313-431f689dd8c6",
   "metadata": {},
   "outputs": [],
   "source": [
    "#Test notebook"
   ]
  },
  {
   "cell_type": "code",
   "execution_count": 17,
   "id": "997996cc-5f05-4d4e-85c1-19f9c87d41df",
   "metadata": {},
   "outputs": [],
   "source": [
    "from qiskit import QuantumCircuit, transpile, QuantumRegister, ClassicalRegister\n",
    "from qiskit_aer import AerSimulator\n",
    "\n",
    "class KGadgetSimulator:\n",
    "\n",
    "\n",
    "    def __init__(self,n,t,p):\n",
    "        #Define Paramters\n",
    "        self.n = n#Number of qubits\n",
    "        self.t = t#Number of different noise\n",
    "        self.p = p#Parameter of amplititude damping noise\n",
    "        self.simulator = AerSimulator(method=\"stabilizer\")\n",
    "\n",
    "        self.dataqubit=QuantumRegister(n,name='data')\n",
    "        self.noisequbit=QuantumRegister(t,name='noise')\n",
    "\n",
    "        self.circ= QuantumCircuit(self.dataqubit,self.noisequbit)\n",
    "\n",
    "    #Inject a noise with Kgadget method\n",
    "    def inject_noise(self, qindex):\n",
    "        pass \n",
    "\n",
    "\n",
    "    def compile_circuit(self):\n",
    "        pass\n",
    "\n",
    "\n",
    "\n",
    "    def run(self):\n",
    "\n",
    "        circ = transpile(self.circ, self.simulator)\n",
    "\n",
    "        # Run and get statevector\n",
    "        result = self.simulator.run(circ).result()\n",
    "\n",
    "        return result"
   ]
  },
  {
   "cell_type": "code",
   "execution_count": 18,
   "id": "85a85fca-8fa5-40c1-bd47-5439298cb6fd",
   "metadata": {},
   "outputs": [],
   "source": [
    "KGSimulator=KGadgetSimulator(2,2,0.1)"
   ]
  },
  {
   "cell_type": "code",
   "execution_count": 19,
   "id": "48aaa72a-56eb-4b41-9af5-3daf341a18a2",
   "metadata": {},
   "outputs": [
    {
     "data": {
      "image/png": "[encoded data removed]",
      "text/plain": [
       "<Figure size 220.56x367.889 with 1 Axes>"
      ]
     },
     "execution_count": 19,
     "metadata": {},
     "output_type": "execute_result"
    }
   ],
   "source": [
    "circ=KGSimulator.circ\n",
    "circ.draw(\"mpl\")"
   ]
  },
  {
   "cell_type": "code",
   "execution_count": 20,
   "id": "bc80b9b6-92bb-4bd3-98ca-9493362023a1",
   "metadata": {},
   "outputs": [],
   "source": [
    "state=KGSimulator.run()"
   ]
  }
 ],
 "metadata": {
  "kernelspec": {
   "display_name": "Python 3 (ipykernel)",
   "language": "python",
   "name": "python3"
  },
  "language_info": {
   "codemirror_mode": {
    "name": "ipython",
    "version": 3
   },
   "file_extension": ".py",
   "mimetype": "text/x-python",
   "name": "python",
   "nbconvert_exporter": "python",
   "pygments_lexer": "ipython3",
   "version": "3.11.4"
  }
 },
 "nbformat": 4,
 "nbformat_minor": 5
}
